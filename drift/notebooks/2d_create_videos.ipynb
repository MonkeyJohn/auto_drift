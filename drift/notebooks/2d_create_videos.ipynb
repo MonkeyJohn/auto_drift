{
 "cells": [
  {
   "cell_type": "code",
   "execution_count": 2,
   "metadata": {},
   "outputs": [],
   "source": [
    "import pickle\n",
    "from drift.commons import Animation"
   ]
  },
  {
   "cell_type": "code",
   "execution_count": 3,
   "metadata": {},
   "outputs": [],
   "source": [
    "with open('data/eth_analysis.pkl', 'rb') as f:\n",
    "    analysis = pickle.load(f)"
   ]
  },
  {
   "cell_type": "code",
   "execution_count": 4,
   "metadata": {},
   "outputs": [],
   "source": [
    "videos = [\n",
    "    ('02-03-2019/ddpg_run_5', 13), # trial, episode\n",
    "    ('02-03-2019/ddpg_run_3', 0),\n",
    "    ('02-03-2019/ddpg_run_3', 3),\n",
    "    ('02-03-2019/ddpg_run_3', 9),\n",
    "    ('02-03-2019/ddpg_run_3', 10),\n",
    "    ('02-03-2019/ddpg_run_3', 69),\n",
    "    \n",
    "    ('02-03-2019/ddpg_run_7', 1),\n",
    "    ('02-03-2019/ddpg_run_7', 6),\n",
    "    ('02-03-2019/ddpg_run_7', 9),\n",
    "    ('02-03-2019/ddpg_run_7', 11),\n",
    "    ('02-03-2019/ddpg_run_7', 33),\n",
    "    ('02-03-2019/ddpg_run_7', 41),\n",
    "]"
   ]
  },
  {
   "cell_type": "code",
   "execution_count": 5,
   "metadata": {},
   "outputs": [
    {
     "name": "stdout",
     "output_type": "stream",
     "text": [
      "0 of 12\n",
      "1 of 12\n",
      "2 of 12\n",
      "3 of 12\n",
      "4 of 12\n",
      "5 of 12\n",
      "6 of 12\n",
      "7 of 12\n",
      "8 of 12\n",
      "9 of 12\n",
      "10 of 12\n",
      "11 of 12\n"
     ]
    }
   ],
   "source": [
    "for i, (run, ep) in enumerate(videos):\n",
    "    print(f\"{i} of {len(videos)}\")\n",
    "    model = analysis[run][1][ep]\n",
    "    ani = Animation(model.sequence, show_line=True)\n",
    "    video_name = f\"run_{run[-1]}_ep_{ep}.mp4\"\n",
    "    ani.save(f\"videos/{video_name}\", fps=60, dpi=500)"
   ]
  },
  {
   "cell_type": "code",
   "execution_count": null,
   "metadata": {},
   "outputs": [],
   "source": []
  }
 ],
 "metadata": {
  "kernelspec": {
   "display_name": "Python 3",
   "language": "python",
   "name": "python3"
  },
  "language_info": {
   "codemirror_mode": {
    "name": "ipython",
    "version": 3
   },
   "file_extension": ".py",
   "mimetype": "text/x-python",
   "name": "python",
   "nbconvert_exporter": "python",
   "pygments_lexer": "ipython3",
   "version": "3.6.7"
  }
 },
 "nbformat": 4,
 "nbformat_minor": 2
}
